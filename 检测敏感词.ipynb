{
 "cells": [
  {
   "cell_type": "code",
   "execution_count": 1,
   "metadata": {},
   "outputs": [],
   "source": [
    "import cmd\n",
    "# 存放敏感词文件的路径\n",
    "filtered_words_filepath = 'd:/filtered_words.txt'"
   ]
  },
  {
   "cell_type": "code",
   "execution_count": 2,
   "metadata": {},
   "outputs": [],
   "source": [
    "class CLI(cmd.Cmd):\n",
    "    def __init__(self): #初始基础类方法  \n",
    "        cmd.Cmd.__init__(self)  # 初始化，提取敏感词列表\n",
    "        self.intro = 'Python敏感词检测:' #输出欢迎信息\n",
    "        f = open(filtered_words_filepath)\n",
    "        self.words = list(map(lambda i: i.strip('\\n'), f.readlines()))\n",
    "        self.prompt = \">>> \"    # 定义提示符\n",
    "    def default(self, line):\n",
    "        if any([i in line for i in self.words]):\n",
    "            print ('Freedom')\n",
    "        else:\n",
    "            print ('Human Rights')\n",
    "    def do_quit(self, arg):\n",
    "        exit()\n",
    "        return True"
   ]
  },
  {
   "cell_type": "code",
   "execution_count": null,
   "metadata": {},
   "outputs": [
    {
     "name": "stdout",
     "output_type": "stream",
     "text": [
      "Python敏感词检测:\n",
      ">>> python\n",
      "Human Rights\n",
      ">>> c\n",
      "Human Rights\n"
     ]
    }
   ],
   "source": [
    "if __name__ ==\"__main__\":\n",
    "    cli = CLI()\n",
    "    cli.cmdloop()"
   ]
  },
  {
   "cell_type": "code",
   "execution_count": null,
   "metadata": {},
   "outputs": [],
   "source": []
  }
 ],
 "metadata": {
  "kernelspec": {
   "display_name": "Pytorch for Deeplearning",
   "language": "python",
   "name": "pytorch"
  },
  "language_info": {
   "codemirror_mode": {
    "name": "ipython",
    "version": 3
   },
   "file_extension": ".py",
   "mimetype": "text/x-python",
   "name": "python",
   "nbconvert_exporter": "python",
   "pygments_lexer": "ipython3",
   "version": "3.6.2"
  }
 },
 "nbformat": 4,
 "nbformat_minor": 2
}
