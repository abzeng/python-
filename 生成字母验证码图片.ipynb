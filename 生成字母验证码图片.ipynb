{
 "cells": [
  {
   "cell_type": "code",
   "execution_count": 2,
   "metadata": {},
   "outputs": [],
   "source": [
    "from PIL import Image, ImageDraw, ImageFont, ImageFilter\n",
    "import random"
   ]
  },
  {
   "cell_type": "code",
   "execution_count": 3,
   "metadata": {},
   "outputs": [],
   "source": [
    "# 随机字母:\n",
    "def rndChar():\n",
    "    return chr(random.randint(65, 90))\n",
    "# 随机颜色1:\n",
    "def rndColor():\n",
    "    return (random.randint(64, 255), random.randint(64, 255), random.randint(64, 255))\n",
    "# 随机颜色2:\n",
    "def rndColor2():\n",
    "    return (random.randint(32, 127), random.randint(32, 127), random.randint(32, 127))"
   ]
  },
  {
   "cell_type": "code",
   "execution_count": 4,
   "metadata": {},
   "outputs": [],
   "source": [
    "def compose():\n",
    "    # 240 x 60:\n",
    "    width = 240\n",
    "    height = 60\n",
    "    image = Image.new('RGB', (width, height), (255, 255, 255))\n",
    "    # 创建Font对象:\n",
    "    font = ImageFont.truetype('C:/windows/fonts/Arial.ttf', 36)\n",
    "    # 创建Draw对象:\n",
    "    draw = ImageDraw.Draw(image)\n",
    "    # 填充每个像素:\n",
    "    for x in range(width):\n",
    "        for y in range(height):\n",
    "            draw.point((x, y), fill=rndColor())\n",
    "    # 输出文字:\n",
    "    letter = [] \n",
    "    for t in range(4):\n",
    "        letter.append(rndChar())\n",
    "        draw.text((60 * t + 10, 10), letter[t], font=font, fill=rndColor2())\n",
    "    # 模糊:\n",
    "    image.save('code.jpg', 'jpeg')\n",
    "    image = image.filter(ImageFilter.BLUR)\n",
    "    image.save('filter.jpg', 'jpeg')\n",
    "    print (letter)"
   ]
  },
  {
   "cell_type": "code",
   "execution_count": 5,
   "metadata": {},
   "outputs": [
    {
     "name": "stdout",
     "output_type": "stream",
     "text": [
      "['A', 'Z', 'N', 'X']\n"
     ]
    }
   ],
   "source": [
    "compose()"
   ]
  },
  {
   "cell_type": "code",
   "execution_count": 6,
   "metadata": {},
   "outputs": [
    {
     "ename": "NameError",
     "evalue": "name 'plt' is not defined",
     "output_type": "error",
     "traceback": [
      "\u001b[1;31m---------------------------------------------------------------------------\u001b[0m",
      "\u001b[1;31mNameError\u001b[0m                                 Traceback (most recent call last)",
      "\u001b[1;32m<ipython-input-6-e2a04aff946b>\u001b[0m in \u001b[0;36m<module>\u001b[1;34m\u001b[0m\n\u001b[1;32m----> 1\u001b[1;33m \u001b[0mplt\u001b[0m\u001b[1;33m.\u001b[0m\u001b[0mimshow\u001b[0m\u001b[1;33m(\u001b[0m\u001b[1;33m)\u001b[0m\u001b[1;33m\u001b[0m\u001b[0m\n\u001b[0m",
      "\u001b[1;31mNameError\u001b[0m: name 'plt' is not defined"
     ]
    }
   ],
   "source": [
    "plt.imshow()"
   ]
  },
  {
   "cell_type": "code",
   "execution_count": null,
   "metadata": {},
   "outputs": [],
   "source": []
  }
 ],
 "metadata": {
  "kernelspec": {
   "display_name": "Pytorch for Deeplearning",
   "language": "python",
   "name": "pytorch"
  },
  "language_info": {
   "codemirror_mode": {
    "name": "ipython",
    "version": 3
   },
   "file_extension": ".py",
   "mimetype": "text/x-python",
   "name": "python",
   "nbconvert_exporter": "python",
   "pygments_lexer": "ipython3",
   "version": "3.6.2"
  }
 },
 "nbformat": 4,
 "nbformat_minor": 2
}
