{
 "cells": [
  {
   "cell_type": "code",
   "execution_count": 1,
   "metadata": {},
   "outputs": [],
   "source": [
    "import random\n",
    "import string"
   ]
  },
  {
   "cell_type": "code",
   "execution_count": 8,
   "metadata": {},
   "outputs": [],
   "source": [
    "#FIELD是由26个字母和10个数字组成的字符串，全局变量\n",
    "FIELD = string.digits + string.ascii_letters"
   ]
  },
  {
   "cell_type": "code",
   "execution_count": 9,
   "metadata": {},
   "outputs": [],
   "source": [
    "#从FIELD中选取n个字符组成一个激活码，重复many次\n",
    "def generate(n, many=1, where=None):\n",
    "    def getCode(n):\n",
    "        return \"\".join(random.sample(FIELD, n))\n",
    "    gene = [getCode(n) for i in range(many)]\n",
    "    return gene"
   ]
  },
  {
   "cell_type": "code",
   "execution_count": 10,
   "metadata": {},
   "outputs": [],
   "source": [
    "# 生成many个长度为n的激活码，并写入\n",
    "def writeIn(n, many, where):\n",
    "    count = 1\n",
    "    for i in generate(n, many):\n",
    "        with open(where, \"a\") as boom:\n",
    "            boom.write(str(count).rjust(3)+\"  \"+i+\"\\n\")\n",
    "        count += 1"
   ]
  },
  {
   "cell_type": "code",
   "execution_count": null,
   "metadata": {},
   "outputs": [],
   "source": []
  }
 ],
 "metadata": {
  "kernelspec": {
   "display_name": "Pytorch for Deeplearning",
   "language": "python",
   "name": "pytorch"
  },
  "language_info": {
   "codemirror_mode": {
    "name": "ipython",
    "version": 3
   },
   "file_extension": ".py",
   "mimetype": "text/x-python",
   "name": "python",
   "nbconvert_exporter": "python",
   "pygments_lexer": "ipython3",
   "version": "3.6.2"
  }
 },
 "nbformat": 4,
 "nbformat_minor": 2
}
